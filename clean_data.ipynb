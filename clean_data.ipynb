{
 "cells": [
  {
   "cell_type": "code",
   "execution_count": 1,
   "metadata": {},
   "outputs": [
    {
     "name": "stdout",
     "output_type": "stream",
     "text": [
      "  Artist(s)                       song  \\\n",
      "0       !!!  Even When the Waters Cold   \n",
      "1       !!!         One Girl / One Boy   \n",
      "2       !!!          Pardon My Freedom   \n",
      "3       !!!                        Ooo   \n",
      "4       !!!                 Freedom 15   \n",
      "\n",
      "                                                text Length  emotion    Genre  \\\n",
      "0  Friends told her she was better off at the bot...  03:47  sadness  hip hop   \n",
      "1  Well I heard it, playing soft From a drunken b...  04:03  sadness  hip hop   \n",
      "2  Oh my god, did I just say that out loud? Shoul...  05:51      joy  hip hop   \n",
      "3  [Verse 1] Remember when I called you on the te...  03:44      joy  hip hop   \n",
      "4  [Verse 1] Calling me like I got something to s...  06:00      joy  hip hop   \n",
      "\n",
      "           Album Release Date     Key     Tempo  ...  \\\n",
      "0       Thr!!!er   2013-04-29   D min  0.437870  ...   \n",
      "1       Thr!!!er   2013-04-29  A# min  0.508876  ...   \n",
      "2  Louden Up Now   2004-06-08   A Maj  0.532544  ...   \n",
      "3          As If   2015-10-16   A min  0.538462  ...   \n",
      "4          As If   2015-10-16   F min  0.544379  ...   \n",
      "\n",
      "   Good for Morning Routine Similar Artist 1               Similar Song 1  \\\n",
      "0                         0      Corey Smith       If I Could Do It Again   \n",
      "1                         0  Hiroyuki Sawano                 BRE@TH//LESS   \n",
      "2                         0    Ricky Dillard  More Abundantly Medley Live   \n",
      "3                         0     Eric Clapton                Man Overboard   \n",
      "4                         0       Cibo Matto                 Lint Of Love   \n",
      "\n",
      "   Similarity Score 1  Similar Artist 2              Similar Song 2  \\\n",
      "0            0.986061        Toby Keith           Drinks After Work   \n",
      "1            0.995409      When In Rome                Heaven Knows   \n",
      "2            0.993176            Juliet                      Avalon   \n",
      "3            0.992749           Roxette  Don't Believe In Accidents   \n",
      "4            0.981610   Barrington Levy            Better Than Gold   \n",
      "\n",
      "   Similarity Score 2  Similar Artist 3  Similar Song 3  Similarity Score 3  \n",
      "0            0.983719             Space   Neighbourhood            0.983236  \n",
      "1            0.990905      Justice Crew       Everybody            0.984483  \n",
      "2            0.965147      The Jacksons      Lovely One            0.956752  \n",
      "3            0.991494       Tiwa Savage       My Darlin            0.990381  \n",
      "4            0.981524         Freestyle   Its Automatic            0.981415  \n",
      "\n",
      "[5 rows x 39 columns]\n",
      "CSV 欄位名稱： ['Artist(s)', 'song', 'text', 'Length', 'emotion', 'Genre', 'Album', 'Release Date', 'Key', 'Tempo', 'Loudness (db)', 'Time signature', 'Explicit', 'Popularity', 'Energy', 'Danceability', 'Positiveness', 'Speechiness', 'Liveness', 'Acousticness', 'Instrumentalness', 'Good for Party', 'Good for Work/Study', 'Good for Relaxation/Meditation', 'Good for Exercise', 'Good for Running', 'Good for Yoga/Stretching', 'Good for Driving', 'Good for Social Gatherings', 'Good for Morning Routine', 'Similar Artist 1', 'Similar Song 1', 'Similarity Score 1', 'Similar Artist 2', 'Similar Song 2', 'Similarity Score 2', 'Similar Artist 3', 'Similar Song 3', 'Similarity Score 3']\n"
     ]
    }
   ],
   "source": [
    "import pandas as pd\n",
    "\n",
    "# 讀取 CSV 檔案\n",
    "csv_path = \"/Users/nana/Desktop/ncku/資料庫/final_project/dataset/spotify_dataset.csv\"\n",
    "csv_df = pd.read_csv(csv_path)\n",
    "\n",
    "# 顯示前五筆資料\n",
    "print(csv_df.head())\n",
    "\n",
    "# 顯示欄位名稱\n",
    "print(\"CSV 欄位名稱：\", csv_df.columns.tolist())\n"
   ]
  },
  {
   "cell_type": "code",
   "execution_count": 4,
   "metadata": {},
   "outputs": [
    {
     "name": "stdout",
     "output_type": "stream",
     "text": [
      "  Artist(s)                       song  \\\n",
      "0       !!!  Even When the Waters Cold   \n",
      "1       !!!         One Girl / One Boy   \n",
      "2       !!!          Pardon My Freedom   \n",
      "3       !!!                        Ooo   \n",
      "4       !!!                 Freedom 15   \n",
      "\n",
      "                                                text Length  emotion    Genre  \\\n",
      "0  Friends told her she was better off at the bot...  03:47  sadness  hip hop   \n",
      "1  Well I heard it, playing soft From a drunken b...  04:03  sadness  hip hop   \n",
      "2  Oh my god, did I just say that out loud? Shoul...  05:51      joy  hip hop   \n",
      "3  [Verse 1] Remember when I called you on the te...  03:44      joy  hip hop   \n",
      "4  [Verse 1] Calling me like I got something to s...  06:00      joy  hip hop   \n",
      "\n",
      "           Album Release Date     Key     Tempo  ...  Good for Party  \\\n",
      "0       Thr!!!er   2013-04-29   D min  0.437870  ...               0   \n",
      "1       Thr!!!er   2013-04-29  A# min  0.508876  ...               0   \n",
      "2  Louden Up Now   2004-06-08   A Maj  0.532544  ...               0   \n",
      "3          As If   2015-10-16   A min  0.538462  ...               0   \n",
      "4          As If   2015-10-16   F min  0.544379  ...               0   \n",
      "\n",
      "  Good for Work/Study Good for Relaxation/Meditation Good for Exercise  \\\n",
      "0                   0                              0                 0   \n",
      "1                   0                              0                 0   \n",
      "2                   0                              0                 1   \n",
      "3                   0                              0                 1   \n",
      "4                   0                              0                 1   \n",
      "\n",
      "  Good for Running Good for Yoga/Stretching Good for Driving  \\\n",
      "0                0                        0                0   \n",
      "1                0                        0                0   \n",
      "2                0                        0                0   \n",
      "3                0                        0                0   \n",
      "4                0                        0                0   \n",
      "\n",
      "  Good for Social Gatherings Good for Morning Routine  \\\n",
      "0                          0                        0   \n",
      "1                          0                        0   \n",
      "2                          0                        0   \n",
      "3                          0                        0   \n",
      "4                          0                        0   \n",
      "\n",
      "                                       Similar Songs  \n",
      "0  [{'Similar Artist 1': 'Corey Smith', 'Similar ...  \n",
      "1  [{'Similar Artist 1': 'Hiroyuki Sawano', 'Simi...  \n",
      "2  [{'Similar Artist 1': 'Ricky Dillard', 'Simila...  \n",
      "3  [{'Similar Artist 1': 'Eric Clapton', 'Similar...  \n",
      "4  [{'Similar Artist 1': 'Cibo Matto', 'Similar S...  \n",
      "\n",
      "[5 rows x 31 columns]\n",
      "JSON 欄位： ['Artist(s)', 'song', 'text', 'Length', 'emotion', 'Genre', 'Album', 'Release Date', 'Key', 'Tempo', 'Loudness (db)', 'Time signature', 'Explicit', 'Popularity', 'Energy', 'Danceability', 'Positiveness', 'Speechiness', 'Liveness', 'Acousticness', 'Instrumentalness', 'Good for Party', 'Good for Work/Study', 'Good for Relaxation/Meditation', 'Good for Exercise', 'Good for Running', 'Good for Yoga/Stretching', 'Good for Driving', 'Good for Social Gatherings', 'Good for Morning Routine', 'Similar Songs']\n"
     ]
    }
   ],
   "source": [
    "import json\n",
    "\n",
    "json_path = \"/Users/nana/Desktop/ncku/資料庫/final_project/dataset/900k Definitive Spotify Dataset.json\"\n",
    "\n",
    "data = []\n",
    "with open(json_path, \"r\", encoding=\"utf-8\") as f:\n",
    "    for line in f:\n",
    "        try:\n",
    "            data.append(json.loads(line))\n",
    "        except json.JSONDecodeError as e:\n",
    "            print(\"跳過一行無法解析的資料：\", e)\n",
    "\n",
    "# 包成 DataFrame\n",
    "import pandas as pd\n",
    "df = pd.DataFrame(data)\n",
    "\n",
    "print(df.head())\n",
    "print(\"JSON 欄位：\", df.columns.tolist())\n"
   ]
  },
  {
   "cell_type": "code",
   "execution_count": 7,
   "metadata": {},
   "outputs": [
    {
     "name": "stdout",
     "output_type": "stream",
     "text": [
      "(498052, 39)\n",
      "Artist(s)                          object\n",
      "song                               object\n",
      "text                               object\n",
      "Length                             object\n",
      "emotion                            object\n",
      "Genre                              object\n",
      "Album                              object\n",
      "Release Date                       object\n",
      "Key                                object\n",
      "Tempo                             float64\n",
      "Loudness (db)                     float64\n",
      "Time signature                     object\n",
      "Explicit                           object\n",
      "Popularity                          int64\n",
      "Energy                              int64\n",
      "Danceability                        int64\n",
      "Positiveness                        int64\n",
      "Speechiness                         int64\n",
      "Liveness                            int64\n",
      "Acousticness                        int64\n",
      "Instrumentalness                    int64\n",
      "Good for Party                      int64\n",
      "Good for Work/Study                 int64\n",
      "Good for Relaxation/Meditation      int64\n",
      "Good for Exercise                   int64\n",
      "Good for Running                    int64\n",
      "Good for Yoga/Stretching            int64\n",
      "Good for Driving                    int64\n",
      "Good for Social Gatherings          int64\n",
      "Good for Morning Routine            int64\n",
      "Similar Artist 1                   object\n",
      "Similar Song 1                     object\n",
      "Similarity Score 1                float64\n",
      "Similar Artist 2                   object\n",
      "Similar Song 2                     object\n",
      "Similarity Score 2                float64\n",
      "Similar Artist 3                   object\n",
      "Similar Song 3                     object\n",
      "Similarity Score 3                float64\n",
      "dtype: object\n"
     ]
    }
   ],
   "source": [
    "print(csv_df.shape)  # 查看列數與欄數\n",
    "print(csv_df.dtypes) # 查看每欄的資料型別"
   ]
  },
  {
   "cell_type": "code",
   "execution_count": 8,
   "metadata": {},
   "outputs": [
    {
     "name": "stdout",
     "output_type": "stream",
     "text": [
      "  artist                      title  \\\n",
      "0    !!!  Even When the Waters Cold   \n",
      "1    !!!         One Girl / One Boy   \n",
      "2    !!!          Pardon My Freedom   \n",
      "3    !!!                        Ooo   \n",
      "4    !!!                 Freedom 15   \n",
      "\n",
      "                                              lyrics  emotion    genre  \\\n",
      "0  Friends told her she was better off at the bot...  sadness  hip hop   \n",
      "1  Well I heard it, playing soft From a drunken b...  sadness  hip hop   \n",
      "2  Oh my god, did I just say that out loud? Shoul...      joy  hip hop   \n",
      "3  [Verse 1] Remember when I called you on the te...      joy  hip hop   \n",
      "4  [Verse 1] Calling me like I got something to s...      joy  hip hop   \n",
      "\n",
      "           album release_date  energy  danceability  positiveness  \\\n",
      "0       Thr!!!er   2013-04-29      83            71            87   \n",
      "1       Thr!!!er   2013-04-29      85            70            87   \n",
      "2  Louden Up Now   2004-06-08      89            71            63   \n",
      "3          As If   2015-10-16      84            78            97   \n",
      "4          As If   2015-10-16      71            77            70   \n",
      "\n",
      "   speechiness  liveness  acousticness  instrumentalness  \n",
      "0            4        16            11                 0  \n",
      "1            4        32             0                 0  \n",
      "2            8        64             0                20  \n",
      "3            4        12            12                 0  \n",
      "4            7        10             4                 1  \n",
      "artist              object\n",
      "title               object\n",
      "lyrics              object\n",
      "emotion             object\n",
      "genre               object\n",
      "album               object\n",
      "release_date        object\n",
      "energy               int64\n",
      "danceability         int64\n",
      "positiveness         int64\n",
      "speechiness          int64\n",
      "liveness             int64\n",
      "acousticness         int64\n",
      "instrumentalness     int64\n",
      "dtype: object\n"
     ]
    }
   ],
   "source": [
    "import pandas as pd\n",
    "\n",
    "# 讀入資料\n",
    "csv_path = \"/Users/nana/Desktop/ncku/資料庫/final_project/dataset/spotify_dataset.csv\"\n",
    "df = pd.read_csv(csv_path)\n",
    "\n",
    "# 選擇你要保留的欄位\n",
    "columns_to_keep = ['Artist(s)', 'song', 'text', 'emotion', 'Genre', 'Album', 'Release Date',\n",
    "                   'Energy', 'Danceability', 'Positiveness', 'Speechiness', 'Liveness',\n",
    "                   'Acousticness', 'Instrumentalness']\n",
    "df = df[columns_to_keep]\n",
    "\n",
    "# 重新命名欄位為資料庫友善格式\n",
    "df.columns = ['artist', 'title', 'lyrics', 'emotion', 'genre', 'album', 'release_date',\n",
    "              'energy', 'danceability', 'positiveness', 'speechiness', 'liveness',\n",
    "              'acousticness', 'instrumentalness']\n",
    "\n",
    "# 轉換數值欄位成 float\n",
    "numeric_columns = ['energy', 'danceability', 'positiveness', 'speechiness', 'liveness', 'acousticness', 'instrumentalness']\n",
    "df[numeric_columns] = df[numeric_columns].apply(pd.to_numeric, errors='coerce')\n",
    "\n",
    "# 移除有嚴重缺值的行（可選）\n",
    "df = df.dropna(subset=['title', 'artist'])\n",
    "\n",
    "# 預覽前幾筆資料\n",
    "print(df.head())\n",
    "\n",
    "# 顯示欄位型別\n",
    "print(df.dtypes)\n"
   ]
  },
  {
   "cell_type": "code",
   "execution_count": 9,
   "metadata": {},
   "outputs": [],
   "source": [
    "df.to_csv(\"clean_spotify_songs.csv\", index=False)"
   ]
  },
  {
   "cell_type": "code",
   "execution_count": 10,
   "metadata": {},
   "outputs": [
    {
     "name": "stdout",
     "output_type": "stream",
     "text": [
      "資料筆數（列數）: 498038\n",
      "欄位數（欄數）: 14\n"
     ]
    }
   ],
   "source": [
    "print(\"資料筆數（列數）:\", df.shape[0])\n",
    "print(\"欄位數（欄數）:\", df.shape[1])"
   ]
  },
  {
   "cell_type": "code",
   "execution_count": 19,
   "metadata": {},
   "outputs": [],
   "source": [
    "df[\"release_date\"] = pd.to_datetime(df[\"release_date\"], errors='coerce').dt.date"
   ]
  },
  {
   "cell_type": "code",
   "execution_count": 34,
   "metadata": {},
   "outputs": [
    {
     "name": "stdout",
     "output_type": "stream",
     "text": [
      "artist                   0\n",
      "title                    0\n",
      "lyrics                   0\n",
      "emotion                  0\n",
      "genre                    0\n",
      "album                   49\n",
      "release_date        147680\n",
      "energy                   0\n",
      "danceability             0\n",
      "positiveness             0\n",
      "speechiness              0\n",
      "liveness                 0\n",
      "acousticness             0\n",
      "instrumentalness         0\n",
      "dtype: int64\n"
     ]
    }
   ],
   "source": [
    "print(df.isna().sum())"
   ]
  },
  {
   "cell_type": "code",
   "execution_count": 53,
   "metadata": {},
   "outputs": [],
   "source": [
    "df = df.drop(columns=[\"lyrics\"])\n"
   ]
  },
  {
   "cell_type": "code",
   "execution_count": null,
   "metadata": {},
   "outputs": [],
   "source": [
    "# from sqlalchemy import create_engine, text\n",
    "\n",
    "# # 1. 建立新 engine（不會立即連線）\n",
    "# engine = create_engine(\"mysql+mysqlconnector://root:@localhost/music_db\")\n",
    "\n",
    "# # 2. 建立 connection 物件（手動管理交易）\n",
    "# conn = engine.connect()\n",
    "\n",
    "# # 3. 明確 rollback（這是重點！）\n",
    "# conn.rollback()\n",
    "\n",
    "# # 4. 關閉連線（徹底結束這個壞掉的 transaction）\n",
    "# conn.close()"
   ]
  },
  {
   "cell_type": "code",
   "execution_count": 52,
   "metadata": {},
   "outputs": [
    {
     "name": "stdout",
     "output_type": "stream",
     "text": [
      "✅ 全部資料匯入成功！\n"
     ]
    }
   ],
   "source": [
    "try:\n",
    "    df.to_sql(name='Songs', con=engine, if_exists='append', index=False, chunksize=1000)\n",
    "    print(\"全部資料匯入成功！\")\n",
    "except Exception as e:\n",
    "    print(\"匯入失敗：\", e)"
   ]
  },
  {
   "cell_type": "markdown",
   "metadata": {},
   "source": [
    "### 修改音樂類型並匯入"
   ]
  },
  {
   "cell_type": "code",
   "execution_count": 54,
   "metadata": {},
   "outputs": [
    {
     "data": {
      "text/html": [
       "<div>\n",
       "<style scoped>\n",
       "    .dataframe tbody tr th:only-of-type {\n",
       "        vertical-align: middle;\n",
       "    }\n",
       "\n",
       "    .dataframe tbody tr th {\n",
       "        vertical-align: top;\n",
       "    }\n",
       "\n",
       "    .dataframe thead th {\n",
       "        text-align: right;\n",
       "    }\n",
       "</style>\n",
       "<table border=\"1\" class=\"dataframe\">\n",
       "  <thead>\n",
       "    <tr style=\"text-align: right;\">\n",
       "      <th></th>\n",
       "      <th>song_id</th>\n",
       "      <th>genre</th>\n",
       "    </tr>\n",
       "  </thead>\n",
       "  <tbody>\n",
       "    <tr>\n",
       "      <th>0</th>\n",
       "      <td>1</td>\n",
       "      <td>hip hop</td>\n",
       "    </tr>\n",
       "    <tr>\n",
       "      <th>1</th>\n",
       "      <td>2</td>\n",
       "      <td>hip hop</td>\n",
       "    </tr>\n",
       "    <tr>\n",
       "      <th>2</th>\n",
       "      <td>3</td>\n",
       "      <td>hip hop</td>\n",
       "    </tr>\n",
       "    <tr>\n",
       "      <th>3</th>\n",
       "      <td>4</td>\n",
       "      <td>hip hop</td>\n",
       "    </tr>\n",
       "    <tr>\n",
       "      <th>4</th>\n",
       "      <td>5</td>\n",
       "      <td>hip hop</td>\n",
       "    </tr>\n",
       "  </tbody>\n",
       "</table>\n",
       "</div>"
      ],
      "text/plain": [
       "   song_id    genre\n",
       "0        1  hip hop\n",
       "1        2  hip hop\n",
       "2        3  hip hop\n",
       "3        4  hip hop\n",
       "4        5  hip hop"
      ]
     },
     "execution_count": 54,
     "metadata": {},
     "output_type": "execute_result"
    }
   ],
   "source": [
    "# 建立連線\n",
    "import pandas as pd\n",
    "from sqlalchemy import create_engine\n",
    "engine = create_engine(\"mysql+mysqlconnector://root:@localhost/music_db\")\n",
    "\n",
    "# 把現有 Songs 表中的 song_id 和 genre 讀出來\n",
    "df_genre = pd.read_sql(\"SELECT song_id, genre FROM Songs\", con=engine)\n",
    "df_genre.head()\n"
   ]
  },
  {
   "cell_type": "code",
   "execution_count": 55,
   "metadata": {},
   "outputs": [
    {
     "name": "stderr",
     "output_type": "stream",
     "text": [
      "<>:4: SyntaxWarning: invalid escape sequence '\\s'\n",
      "<>:4: SyntaxWarning: invalid escape sequence '\\s'\n",
      "/var/folders/gm/lpq7twgj5n92tmnst4sl52xc0000gn/T/ipykernel_35102/2732508819.py:4: SyntaxWarning: invalid escape sequence '\\s'\n",
      "  df_genre[\"genre_list\"] = df_genre[\"genre\"].fillna(\"\").str.lower().str.split(\",\\s*\")\n"
     ]
    },
    {
     "data": {
      "text/plain": [
       "-1"
      ]
     },
     "execution_count": 55,
     "metadata": {},
     "output_type": "execute_result"
    }
   ],
   "source": [
    "from sklearn.preprocessing import MultiLabelBinarizer\n",
    "\n",
    "# 將 genre 拆解為 list\n",
    "df_genre[\"genre_list\"] = df_genre[\"genre\"].fillna(\"\").str.lower().str.split(\",\\s*\")\n",
    "\n",
    "# 取得所有 genre 類型\n",
    "mlb = MultiLabelBinarizer()\n",
    "genre_matrix = mlb.fit_transform(df_genre[\"genre_list\"])\n",
    "genre_names = mlb.classes_\n",
    "\n",
    "# 建立 genre_id 對照表\n",
    "df_genres = pd.DataFrame({\n",
    "    \"genre_id\": range(1, len(genre_names)+1),\n",
    "    \"name\": genre_names\n",
    "})\n",
    "df_genres.to_sql(\"Genres\", con=engine, if_exists=\"append\", index=False)\n",
    "\n",
    "# 建立 song_id 與 genre_id 對應關係\n",
    "song_ids = df_genre[\"song_id\"].values\n",
    "song_genres = []\n",
    "for i, row in enumerate(genre_matrix):\n",
    "    for j, has_genre in enumerate(row):\n",
    "        if has_genre:\n",
    "            song_genres.append({\"song_id\": song_ids[i], \"genre_id\": j+1})\n",
    "\n",
    "df_song_genres = pd.DataFrame(song_genres)\n",
    "df_song_genres.to_sql(\"Song_Genres\", con=engine, if_exists=\"append\", index=False)\n"
   ]
  },
  {
   "cell_type": "markdown",
   "metadata": {},
   "source": [
    "### 加入人格類型"
   ]
  },
  {
   "cell_type": "code",
   "execution_count": 58,
   "metadata": {},
   "outputs": [],
   "source": [
    "import pandas as pd\n",
    "\n",
    "personality_data = [\n",
    "    (\"活力開朗型\", \"喜歡高能量與律動感的歌曲，通常充滿自信、積極向上，喜歡在生活中尋找刺激與樂趣，適合團體活動、運動或派對場景，常給人陽光、有感染力的印象。\",\n",
    "     \"high\", \"high\", \"high\", \"low\", \"low\", \"low\", \"low\"),\n",
    "    (\"派對社交型\", \"偏好節奏強烈與現場氛圍的音樂，樂於參與社交，擅長與人互動，享受群體能量與歡樂時光。具外向特質，情緒表達直接、熱情洋溢。\",\n",
    "     \"high\", \"high\", \"high\", \"mid\", \"high\", \"low\", \"low\"),\n",
    "    (\"語言思考型\", \"偏好歌詞明確、語言密集的歌曲，喜歡思辨與內省，對文字和意涵敏感，個性理性、有觀察力，適合靜態的深度交流。\",\n",
    "     \"mid\", \"mid\", \"mid\", \"high\", \"low\", \"low\", \"low\"),\n",
    "    (\"沉靜內斂型\", \"喜歡旋律細膩、結構柔和的音樂。安靜、穩定、有藝術氣質，常用音樂陪伴思考與情緒整理，偏好獨處，重視真誠與深層關係。\",\n",
    "     \"low\", \"low\", \"low\", \"mid\", \"low\", \"high\", \"low\"),\n",
    "    (\"療癒放鬆型\", \"偏好原聲樂器、純音樂與低能量的曲風，追求內心的平靜與放鬆。具溫和、敏感、包容的特質，喜歡冥想、自然環境或靜謐場域，是自我療癒的實踐者。\",\n",
    "     \"low\", \"low\", \"mid\", \"low\", \"low\", \"high\", \"high\"),\n",
    "    (\"多元探索型\", \"對各種音樂風格皆能接受，偏好融合曲風與創新編曲。個性開放、富創意，具高度好奇心與冒險精神，喜歡跨界與未知，樂於體驗不同文化與情境。\",\n",
    "     \"mid\", \"mid\", \"mid\", \"mid\", \"mid\", \"mid\", \"mid\")\n",
    "]\n",
    "\n",
    "columns = [\n",
    "    \"personality_type\", \"description\",\n",
    "    \"energy_level\", \"danceability_level\", \"positiveness_level\",\n",
    "    \"speechiness_level\", \"liveness_level\", \"acousticness_level\", \"instrumentalness_level\"\n",
    "]\n",
    "\n",
    "df_personality = pd.DataFrame(personality_data, columns=columns)\n"
   ]
  },
  {
   "cell_type": "code",
   "execution_count": 59,
   "metadata": {},
   "outputs": [
    {
     "data": {
      "text/plain": [
       "-1"
      ]
     },
     "execution_count": 59,
     "metadata": {},
     "output_type": "execute_result"
    }
   ],
   "source": [
    "from sqlalchemy import create_engine\n",
    "\n",
    "# 建立連線（如已建立可略過）\n",
    "engine = create_engine(\"mysql+mysqlconnector://root:@localhost/music_db\")\n",
    "\n",
    "# 匯入表格（append 模式）\n",
    "df_personality.to_sql(\"Personality_Types\", con=engine, if_exists=\"append\", index=False)\n"
   ]
  }
 ],
 "metadata": {
  "kernelspec": {
   "display_name": "gaiHW",
   "language": "python",
   "name": "python3"
  },
  "language_info": {
   "codemirror_mode": {
    "name": "ipython",
    "version": 3
   },
   "file_extension": ".py",
   "mimetype": "text/x-python",
   "name": "python",
   "nbconvert_exporter": "python",
   "pygments_lexer": "ipython3",
   "version": "3.12.3"
  }
 },
 "nbformat": 4,
 "nbformat_minor": 2
}
